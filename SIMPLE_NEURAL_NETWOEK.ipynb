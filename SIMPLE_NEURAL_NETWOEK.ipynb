{
 "cells": [
  {
   "cell_type": "markdown",
   "id": "c4c9f8e9",
   "metadata": {},
   "source": [
    "# Simple Neural Network using Python\n",
    "\n",
    "A Perceptron Algorithm is implemented for\n",
    "classification of `Color` of Flower based on it's `Petal Size`."
   ]
  },
  {
   "cell_type": "code",
   "execution_count": 20,
   "id": "07c10551",
   "metadata": {},
   "outputs": [],
   "source": [
    "#importing Modules\n",
    "import numpy as np\n",
    "import matplotlib.pyplot as plt\n",
    "%matplotlib inline"
   ]
  },
  {
   "cell_type": "markdown",
   "id": "f2a9cf3e",
   "metadata": {},
   "source": [
    "### Initialising data Points"
   ]
  },
  {
   "cell_type": "code",
   "execution_count": 21,
   "id": "37b0c6e2",
   "metadata": {},
   "outputs": [],
   "source": [
    "#[length, width,color=Blue]\n",
    "dataB1 = [2,1,0]\n",
    "dataB2 = [3,1,0]\n",
    "dataB3 = [2,0.5,0]\n",
    "dataB4 = [1,1,0]\n",
    "#[length, width,color=Red]\n",
    "dataR1 = [3,1.5,1]\n",
    "dataR2 = [3.55,0.5,1]\n",
    "dataR3 = [4,1.5,1]\n",
    "dataR4 = [5.5,1,1]"
   ]
  },
  {
   "cell_type": "markdown",
   "id": "0e431cbd",
   "metadata": {},
   "source": [
    "Our Goal is to find `Color` for Petal having\n",
    "\n",
    "Length = 4.5;\n",
    "Width = 1"
   ]
  },
  {
   "cell_type": "code",
   "execution_count": 43,
   "id": "d4dc2827",
   "metadata": {},
   "outputs": [],
   "source": [
    "dataU = [4.5,1] #Target Varibale\n",
    "\n",
    "#we need to find out color for this data point\n",
    "\n",
    "#combine all points\n",
    "data = [dataB1,dataB2,dataB3,dataB4,dataR1,dataR2,dataR3,dataR4]\n",
    "data2 = [] #dummy data\n",
    "for i in range(50):\n",
    "    l = [np.random.randint(1,6),np.random.randint(1,4)]\n",
    "    data2.append(l)"
   ]
  },
  {
   "cell_type": "markdown",
   "id": "35e9e7c5",
   "metadata": {},
   "source": [
    "### Plotting the data Points\n",
    "\n"
   ]
  },
  {
   "cell_type": "code",
   "execution_count": 22,
   "id": "a47914a7",
   "metadata": {},
   "outputs": [
    {
     "data": {
      "image/png": "[encoded data removed]",
      "text/plain": [
       "<Figure size 640x480 with 1 Axes>"
      ]
     },
     "metadata": {},
     "output_type": "display_data"
    }
   ],
   "source": [
    "#scatter plot\n",
    "plt.axis = [0,6,0,6]\n",
    "plt.grid()\n",
    "for i in range(len(data)):\n",
    "    point = data[i]\n",
    "    color = 'r'\n",
    "    if point[2] == 0:\n",
    "        color = 'b'\n",
    "    plt.scatter(point[0],point[1],c=color)\n",
    "    plt.xlim([0, 6])\n",
    "    plt.ylim([0, 2])"
   ]
  },
  {
   "cell_type": "code",
   "execution_count": 8,
   "id": "9b44f3ec",
   "metadata": {},
   "outputs": [],
   "source": [
    "#activation function\n",
    "def sigmoid(z):\n",
    "    \"\"\"Activation Fucntion\n",
    "    input: z\n",
    "    output: sigmod(z)\n",
    "    output range : [0,1]\n",
    "    \"\"\"\n",
    "    return 1 / (1 + np.exp(-z))"
   ]
  },
  {
   "cell_type": "markdown",
   "id": "dae270cd",
   "metadata": {},
   "source": [
    "## To train The Perceptron\n",
    "$w_1x_1 + w_2x_2 + b$\n",
    "\n",
    "where,\n",
    "\n",
    ">$w_1  = Weight_1$,\n",
    "$w_2=Weight_2$,\n",
    "$b = Bias$\n",
    "\n",
    ">$x_1~and~x_2~are~features;[x_1:Lenght~of~Petal,~ x_2:Width~of~Petal]$"
   ]
  },
  {
   "cell_type": "code",
   "execution_count": 9,
   "id": "9bf6134e",
   "metadata": {},
   "outputs": [],
   "source": [
    "#training Neural Network\n",
    "def train_nn():\n",
    "    \"\"\"Training Neural Network\n",
    "    returns optimized learning parameters\n",
    "    \"\"\"\n",
    "    #initialising the learnig parameters\n",
    "    w1 = np.random.randn()*.2-.1\n",
    "    w2 = np.random.randn()*.2-.1\n",
    "    b = np.random.randn()*.2-.1 #bias\n",
    "    learning_rate = 0.2\n",
    "    iterations = 50000\n",
    "    \n",
    "    global cost_hist\n",
    "    cost_hist = []\n",
    "    for i in range(iterations):\n",
    "        #pick random point\n",
    "        rnd_index = np.random.randint(len(data))\n",
    "        point = data[rnd_index]\n",
    "        target = point[2] #y i.e. color of the data\n",
    "        \n",
    "        #feed forward\n",
    "        z = w1*point[0] + w2*point[1] + b\n",
    "        h = sigmoid(z) #Hypothesis\n",
    "        \n",
    "        #cost function\n",
    "        cost = (h-target)**2 #squared error\n",
    "        \n",
    "        cost_hist.append(cost)\n",
    "            \n",
    "        #---------------Gradient Descent starts Here---------------\n",
    "        \n",
    "        #calculatin gradient of cost function\n",
    "        \n",
    "        #1.dcost/dpred\n",
    "        dcost_dpred = 2*(h-target)\n",
    "        \n",
    "        #2.dpred/dz\n",
    "        dpred_dz = sigmoid(z)*(1-sigmoid(z))\n",
    "        \n",
    "        dz_dw1 = point[0]\n",
    "        dz_dw2 = point[1]\n",
    "        dz_db = 1\n",
    "        \n",
    "        #partial derivative using chain rule\n",
    "        dcost_dw1 = dcost_dpred * dpred_dz * dz_dw1\n",
    "        dcost_dw2 = dcost_dpred * dpred_dz * dz_dw2\n",
    "        dcost_db = dcost_dpred * dpred_dz * dz_db\n",
    "        \n",
    "        #updating learnig parametets \n",
    "        w1 -= learning_rate*dcost_dw1\n",
    "        w2 -= learning_rate*dcost_dw2\n",
    "        b -= learning_rate*dcost_db\n",
    "        \n",
    "    return [w1,w2,b]"
   ]
  },
  {
   "cell_type": "code",
   "execution_count": 10,
   "id": "603749fc",
   "metadata": {},
   "outputs": [],
   "source": [
    "#calling the function\n",
    "param = train_nn()"
   ]
  },
  {
   "cell_type": "markdown",
   "id": "6ff19666",
   "metadata": {},
   "source": [
    "### Prediction"
   ]
  },
  {
   "cell_type": "code",
   "execution_count": 18,
   "id": "75dbc31c",
   "metadata": {},
   "outputs": [
    {
     "data": {
      "text/plain": [
       "0.999973061699346"
      ]
     },
     "execution_count": 18,
     "metadata": {},
     "output_type": "execute_result"
    }
   ],
   "source": [
    "predict = sigmoid(param[0]*dataU[0] + param[1]*dataU[1] + param[2]*1)\n",
    "predict"
   ]
  },
  {
   "cell_type": "markdown",
   "id": "9fc7b8ee",
   "metadata": {},
   "source": [
    "So the unknown Petal i.e\n",
    "[4.5,1], the color is predicted to be a `RED`."
   ]
  },
  {
   "cell_type": "code",
   "execution_count": 11,
   "id": "c734094e",
   "metadata": {},
   "outputs": [
    {
     "data": {
      "text/plain": [
       "[<matplotlib.lines.Line2D at 0x2b20024bc40>]"
      ]
     },
     "execution_count": 11,
     "metadata": {},
     "output_type": "execute_result"
    },
    {
     "data": {
      "image/png": "[encoded data removed]",
      "text/plain": [
       "<Figure size 640x480 with 1 Axes>"
      ]
     },
     "metadata": {},
     "output_type": "display_data"
    }
   ],
   "source": [
    "#plotting the cost function\n",
    "plt.plot(cost_hist)"
   ]
  },
  {
   "cell_type": "code",
   "execution_count": 12,
   "id": "ed8d9336",
   "metadata": {},
   "outputs": [
    {
     "name": "stdout",
     "output_type": "stream",
     "text": [
      "w1: 6.958316974564434\n",
      "w2: 6.958316974564434\n",
      "b: 6.958316974564434\n"
     ]
    }
   ],
   "source": [
    "print(f\"w1: {param[0]}\\nw2: {param[0]}\\nb: {param[0]}\")"
   ]
  },
  {
   "cell_type": "markdown",
   "id": "3c982225",
   "metadata": {},
   "source": [
    "### Testing"
   ]
  },
  {
   "cell_type": "code",
   "execution_count": 16,
   "id": "66435e39",
   "metadata": {},
   "outputs": [
    {
     "name": "stdout",
     "output_type": "stream",
     "text": [
      "[2, 1, 0]\n",
      "pred:0.0005299676359701523\n",
      "[3, 1, 0]\n",
      "pred:0.35804775730351246\n",
      "[2, 0.5, 0]\n",
      "pred:9.011745639382499e-05\n",
      "[1, 1, 0]\n",
      "pred:5.041046315999416e-07\n",
      "[3, 1.5, 1]\n",
      "pred:0.7664358984709498\n",
      "[3.55, 0.5, 1]\n",
      "pred:0.8132222089230234\n",
      "[4, 1.5, 1]\n",
      "pred:0.999710368504959\n",
      "[5.5, 1, 1]\n",
      "pred:0.9999999500350936\n"
     ]
    }
   ],
   "source": [
    "#Testing model prediction for different random points\n",
    "\n",
    "for i in range(len(data)):\n",
    "    point = data[i]\n",
    "    print(point)\n",
    "    \n",
    "    z = point[0]*param[0] + point[1]*param[1] + param[2]\n",
    "    pred = sigmoid(z)\n",
    "    print('pred:{}'.format(pred))"
   ]
  },
  {
   "cell_type": "markdown",
   "id": "db5d1166",
   "metadata": {},
   "source": [
    "### Conclusion\n",
    "our model parameters are:\n",
    "\n",
    "$w_1~=~7.114531835117446$\n",
    "\n",
    "$w_1~=~3.6079994527650636$\n",
    "\n",
    "$b~=~-25.10145818157328$"
   ]
  }
 ],
 "metadata": {
  "kernelspec": {
   "display_name": "Python 3 (ipykernel)",
   "language": "python",
   "name": "python3"
  },
  "language_info": {
   "codemirror_mode": {
    "name": "ipython",
    "version": 3
   },
   "file_extension": ".py",
   "mimetype": "text/x-python",
   "name": "python",
   "nbconvert_exporter": "python",
   "pygments_lexer": "ipython3",
   "version": "3.9.13"
  }
 },
 "nbformat": 4,
 "nbformat_minor": 5
}
